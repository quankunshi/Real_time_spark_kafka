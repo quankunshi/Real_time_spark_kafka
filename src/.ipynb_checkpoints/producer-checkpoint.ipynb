{
 "cells": [
  {
   "cell_type": "code",
   "execution_count": null,
   "id": "f9b3b099-a1fc-4008-8b5f-03f498082ec7",
   "metadata": {},
   "outputs": [],
   "source": [
    "import pandas as pd\n",
    "from kafka import KafkaProducer\n",
    "import datetime\n",
    "import time\n",
    "\n",
    "KAFKA_TOPIC_NAME_CONS = \"Iowa_Liquor_Sales_COL\"\n",
    "KAFKA_BOOTSTRAP_SERVERS_CONS = 'localhost:29092'\n",
    "\n",
    "if __name__ == \"__main__\":\n",
    "    print(\"Kafka Producer Application Started ... \")\n",
    "\n",
    "    kafka_producer_obj = KafkaProducer(bootstrap_servers=KAFKA_BOOTSTRAP_SERVERS_CONS,\n",
    "                                       value_serializer=lambda x: x.encode('utf-8'))\n",
    "    filepath = \"..\\dataset\\Iowa_Liquor_Sales_2021_2022.csv\"\n",
    "    \n",
    "    liquor_df = pd.read_csv(filepath,low_memory=False)\n",
    "    \n",
    "    liquor_list = liquor_df.to_dict(orient=\"records\")\n",
    "    \n",
    "        \n",
    "    \n",
    "\n",
    "    message_list = []\n",
    "    message = None\n",
    "    for message in liquor_list:\n",
    "        x = str(datetime.datetime.now())\n",
    "        message_fields_value_list = []\n",
    "        message_fields_value_list.append(message[\"date\"])\n",
    "        message_fields_value_list.append(message[\"invoice_and_item_number\"])\n",
    "        message_fields_value_list.append(message[\"store_name\"])\n",
    "        message_fields_value_list.append(message[\"address\"])\n",
    "        message_fields_value_list.append(message[\"city\"])\n",
    "        message_fields_value_list.append(message[\"county\"])\n",
    "        message_fields_value_list.append(message[\"category_name\"])\n",
    "        message_fields_value_list.append(message[\"vendor_name\"])\n",
    "        message_fields_value_list.append(message[\"item_number\"])\n",
    "        message_fields_value_list.append(message[\"item_description\"])\n",
    "        message_fields_value_list.append(message[\"pack\"])\n",
    "        message_fields_value_list.append(message[\"bottle_volume_ml\"])\n",
    "        message_fields_value_list.append(message[\"state_bottle_cost\"])\n",
    "        message_fields_value_list.append(message[\"state_bottle_retail\"])\n",
    "        message_fields_value_list.append(message[\"bottles_sold\"])\n",
    "        message_fields_value_list.append(float(message[\"sale_dollars\"]))\n",
    "        message_fields_value_list.append(message[\"volume_sold_liters\"])\n",
    "        message = ','.join(str(v) for v in message_fields_value_list)\n",
    "        print(\"Message Type: \", type(message))\n",
    "        print(\"Message: \", message)\n",
    "        kafka_producer_obj.send(KAFKA_TOPIC_NAME_CONS, message)\n",
    "        time.sleep(0.5)\n",
    "\n",
    "\n",
    "    print(\"Kafka Producer Application Completed. \")"
   ]
  }
 ],
 "metadata": {
  "kernelspec": {
   "display_name": "Python 3 (ipykernel)",
   "language": "python",
   "name": "python3"
  },
  "language_info": {
   "codemirror_mode": {
    "name": "ipython",
    "version": 3
   },
   "file_extension": ".py",
   "mimetype": "text/x-python",
   "name": "python",
   "nbconvert_exporter": "python",
   "pygments_lexer": "ipython3",
   "version": "3.10.8"
  }
 },
 "nbformat": 4,
 "nbformat_minor": 5
}
